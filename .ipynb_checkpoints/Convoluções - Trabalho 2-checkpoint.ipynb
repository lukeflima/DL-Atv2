{
 "cells": [
  {
   "cell_type": "code",
   "execution_count": 2,
   "metadata": {},
   "outputs": [],
   "source": [
    "import numpy as np\n",
    "import pandas as pd\n",
    "from PIL import Image\n",
    "import matplotlib.pyplot as plt\n",
    "import matplotlib.image as mpimg\n",
    "import csv\n",
    "from numpy import genfromtxt\n",
    "import random\n",
    "\n",
    "%matplotlib inline"
   ]
  },
  {
   "cell_type": "code",
   "execution_count": 3,
   "metadata": {},
   "outputs": [],
   "source": [
    "def zero_pad(X, xsize, ysize):\n",
    "    \"\"\"\n",
    "    Função para adicionar extensão por zeros na imagem de entrada.\n",
    "    Parametro: X - imagem de entrada\n",
    "    Retorno: X_pad - imagem resultante da extensão por zeros. \n",
    "    \"\"\"\n",
    "    h = X.shape[0]\n",
    "    w = X.shape[1]\n",
    "    if len(X.shape) == 3:\n",
    "        z = X.shape[2]\n",
    "        X_pad = np.concatenate((np.array([[[0]*h]*xsize]*z).T,X), axis=1)\n",
    "        X_pad = np.concatenate((X_pad,np.array([[[0]*h]*xsize]*z).T), axis=1)\n",
    "        X_pad = np.concatenate((X_pad,np.array([np.array([[0]*(w+2*xsize)]*ysize).T]*z).T), axis=0)\n",
    "        X_pad = np.concatenate((np.array([np.array([[0]*(w+2*xsize)]*ysize).T]*z).T,X_pad), axis=0)\n",
    "    else:\n",
    "        X_pad = np.concatenate(([[0]*w]*xsize,X), axis=0)\n",
    "        X_pad = np.concatenate((X_pad,[[0]*w]*xsize), axis=0)\n",
    "        X_pad = np.concatenate((X_pad,np.array([[0]*(h+2*xsize)]*ysize).T), axis=1)\n",
    "        X_pad = np.concatenate((np.array([[0]*(h+2*xsize)]*ysize).T,X_pad), axis=1)\n",
    "   \n",
    "    return X_pad"
   ]
  },
  {
   "cell_type": "code",
   "execution_count": 4,
   "metadata": {},
   "outputs": [],
   "source": [
    "def convolution(X,kernel,stride=1, padding=True):\n",
    "    \"\"\"\n",
    "    Função para implementar a operação de convolução.\n",
    "    Parametros: X - imagem de entrada\n",
    "                kernel - matriz com o kernel a ser utilizado pela operação\n",
    "                stride - tamanho do passo a ser utilizado (default 1)\n",
    "                padding - flag para utilização de padding (default True)\n",
    "    retorno out_conv: matriz resultante da operação de convolução\n",
    "    \"\"\"\n",
    "    #kernel = np.flip(np.flip(kernel,1),0)\n",
    "    #print((kernel*X.shape[2])[0])\n",
    "    x = X.copy()\n",
    "    rx = kernel.shape[0]//2\n",
    "    ry = kernel.shape[1]//2\n",
    "    if padding:\n",
    "        x = zero_pad(x, rx, ry)\n",
    "    if len(X.shape) == 3:\n",
    "        if len(kernel.shape) == 3:\n",
    "            out = [[np.sum(x[i-rx:i+rx+1, j-ry:j+ry+1]*kernel)\n",
    "                for j in range(ry, x.shape[1]-ry, stride)] \n",
    "                   for i in range(rx, x.shape[0]-rx, stride)]\n",
    "        else:\n",
    "            out = [[np.sum(np.sum(x[i-rx:i+rx+1, j-ry:j+ry+1], axis=2)*kernel)\n",
    "                for j in range(ry, x.shape[1]-ry, stride)] \n",
    "                   for i in range(rx, x.shape[0]-rx, stride)]\n",
    "    else:\n",
    "        out = [[np.sum(x[i-rx:i+rx+1, j-ry:j+ry+1]*(kernel)) \n",
    "                for i in range(ry, x.shape[1]-ry, stride)] \n",
    "                   for j in range(rx, x.shape[0]-rx, stride)]\n",
    "        \n",
    "    return out"
   ]
  },
  {
   "cell_type": "code",
   "execution_count": 5,
   "metadata": {},
   "outputs": [],
   "source": [
    "def activation_func(func_type, z):\n",
    "    \"\"\"\n",
    "    Função que implementa as funções de ativação ReLU e Tanh\n",
    "    Parãmetros: func_type - uma string que contém a função de ativação desejada\n",
    "                z - matriz resultante da convolução e do bias.\n",
    "    Retorna: feature map\n",
    "    \"\"\"\n",
    "    ### Seu código aqui (~2 linhas)\n",
    "    if func_type == 'relu':\n",
    "        return np.fmax(0,z)\n",
    "    elif func_type == 'tanh':\n",
    "        return np.tanh(z)"
   ]
  },
  {
   "cell_type": "code",
   "execution_count": 6,
   "metadata": {},
   "outputs": [],
   "source": [
    "def visualize_fmap(X):\n",
    "    \"\"\"\n",
    "    Função que convertendo-o para uma imagem em níveis de cinza no intervalo [0, 255], \n",
    "    com a) níveis em valor absoluto com preto = zero; e b) mínimo = preto.\n",
    "    \"\"\"\n",
    "    x = X.copy()\n",
    "    x = np.abs(x) \n",
    "    x = np.array(x*255/x.max()).astype('uint8')\n",
    "    plt.imshow(x, 'gray')\n",
    "    plt.show()"
   ]
  },
  {
   "cell_type": "code",
   "execution_count": 7,
   "metadata": {},
   "outputs": [],
   "source": [
    "def convLayer(X,act_func, filters, bias, stride, padding):\n",
    "    \"\"\"\n",
    "    Implementa a camada convolucional utilizando bias e função de ativação.\n",
    "    Parametros: X - matriz de entrada\n",
    "                C - quantidade de canais do feature map\n",
    "                filters - filtros utilizados na camada\n",
    "                stride - tamanho do passo a ser utilizado (default 1)\n",
    "                padding - flag para utilização de padding (default True)\n",
    "    Retorno: fmap - feature map de dimensão (n_W,n_H, C)\n",
    "    \"\"\"\n",
    "    fmap = np.array([convolution(X,f,stride,padding) for f in filters])\n",
    "    fmap = np.array([activation_func(act_func, f + b) for f,b in zip(fmap, bias)])\n",
    "    return fmap"
   ]
  },
  {
   "cell_type": "code",
   "execution_count": 8,
   "metadata": {},
   "outputs": [],
   "source": [
    "def readFile(file):\n",
    "    f = open(file, \"r\")\n",
    "    size = np.array(f.readline().strip().split(',')).astype('int')\n",
    "    aux = [i.strip() for i in f.readlines() if i is not \"\\n\"]\n",
    "    bias = np.array(aux[-1].split(',')).astype('double')\n",
    "    del aux[-1]\n",
    "    kernels = np.array([np.array(i.split(',')).astype('double').reshape(size) for i in aux])\n",
    "    kernels.shape\n",
    "    return kernels, bias"
   ]
  },
  {
   "cell_type": "code",
   "execution_count": 27,
   "metadata": {},
   "outputs": [],
   "source": [
    "def maxPooling(x):\n",
    "    out = [[np.max(x[i-1:i+2, j-1:j+2])\n",
    "                for j in range(1, x.shape[1], 2)] \n",
    "                   for i in range(1, x.shape[0], 2)]\n",
    "    return np.array(out)"
   ]
  },
  {
   "cell_type": "code",
   "execution_count": 29,
   "metadata": {},
   "outputs": [],
   "source": [
    "def main(file, img):\n",
    "    convFilters, bias = readFile(file)\n",
    "    stride = int(input(\"Entre com um valor inteiro positivo para o stride \"))\n",
    "    padding = (input(\"Sua operaçao será feita com padding? True or False \"))\n",
    "    imageFile = np.asarray(Image.open(img))\n",
    "    plt.imshow(imageFile) \n",
    "    plt.show()\n",
    "    fmap = convLayer(imageFile,'relu', convFilters, bias, stride, padding)\n",
    "    for f in fmap:\n",
    "        visualize_fmap(f)\n",
    "    #fmap2 = fmap.swapaxes(0,2).swapaxes(0,1)\n",
    "    #fmap2 = convLayer(fmap2,'relu', convFilters, bias, stride, padding)\n",
    "    #print(\"-\"*80)\n",
    "    #for f in fmap2:\n",
    "       # visualize_fmap(f)\n"
   ]
  },
  {
   "cell_type": "code",
   "execution_count": 100,
   "metadata": {},
   "outputs": [
    {
     "data": {
      "image/png": "[encoded data removed]",
      "text/plain": [
       "<Figure size 432x288 with 1 Axes>"
      ]
     },
     "metadata": {},
     "output_type": "display_data"
    },
    {
     "name": "stdout",
     "output_type": "stream",
     "text": [
      "(14, 14)\n"
     ]
    },
    {
     "data": {
      "image/png": "[encoded data removed]",
      "text/plain": [
       "<Figure size 432x288 with 1 Axes>"
      ]
     },
     "metadata": {},
     "output_type": "display_data"
    }
   ],
   "source": [
    "import tensorflow as tf\n",
    "mnist = tf.keras.datasets.mnist\n",
    "\n",
    "(x_train, y_train),(x_test, y_test) = mnist.load_data()\n",
    "plt.imshow(x_train[1], 'gray') \n",
    "plt.show()\n",
    "print(maxPooling(x_train[1]).shape)\n",
    "plt.imshow(maxPooling(x_train[1]),'gray')\n",
    "plt.show()"
   ]
  },
  {
   "cell_type": "code",
   "execution_count": 98,
   "metadata": {},
   "outputs": [
    {
     "data": {
      "text/plain": [
       "array([ 1.14046177, -0.69042023,  0.90585496,  1.40311796,  0.13376938,\n",
       "       -1.12815501,  0.16436084,  0.03061037, -1.62738689])"
      ]
     },
     "execution_count": 98,
     "metadata": {},
     "output_type": "execute_result"
    }
   ],
   "source": [
    "# He\n",
    "size = (3,3)\n",
    "l = [6,16]\n",
    "kernel = np.array([np.sqrt(2/l[0]) * np.random.randn(size[0],size[1]) \n",
    "                   for _ in range(l[1])]).swapaxes(0,2).swapaxes(0,1)\n",
    "kernel[:,:,0]"
   ]
  },
  {
   "cell_type": "code",
   "execution_count": null,
   "metadata": {},
   "outputs": [],
   "source": []
  }
 ],
 "metadata": {
  "kernelspec": {
   "display_name": "Python 3",
   "language": "python",
   "name": "python3"
  },
  "language_info": {
   "codemirror_mode": {
    "name": "ipython",
    "version": 3
   },
   "file_extension": ".py",
   "mimetype": "text/x-python",
   "name": "python",
   "nbconvert_exporter": "python",
   "pygments_lexer": "ipython3",
   "version": "3.6.6"
  }
 },
 "nbformat": 4,
 "nbformat_minor": 2
}
