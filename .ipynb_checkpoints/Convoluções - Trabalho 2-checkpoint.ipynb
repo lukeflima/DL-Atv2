{
 "cells": [
  {
   "cell_type": "code",
   "execution_count": 1,
   "metadata": {},
   "outputs": [],
   "source": [
    "import numpy as np\n",
    "import pandas as pd\n",
    "from PIL import Image\n",
    "import matplotlib.pyplot as plt\n",
    "import matplotlib.image as mpimg\n",
    "import csv\n",
    "from numpy import genfromtxt\n",
    "import random\n",
    "from datetime import datetime\n",
    "random.seed(datetime.now())\n",
    "\n",
    "%matplotlib inline"
   ]
  },
  {
   "cell_type": "code",
   "execution_count": 2,
   "metadata": {},
   "outputs": [],
   "source": [
    "def zero_pad(X, xsize, ysize):\n",
    "    \"\"\"\n",
    "    Função para adicionar extensão por zeros na imagem de entrada.\n",
    "    Parametro: X - imagem de entrada\n",
    "    Retorno: X_pad - imagem resultante da extensão por zeros. \n",
    "    \"\"\"\n",
    "    h = X.shape[0]\n",
    "    w = X.shape[1]\n",
    "    if len(X.shape) == 3:\n",
    "        z = X.shape[2]\n",
    "        X_pad = np.concatenate((np.array([[[0]*h]*xsize]*z).T,X), axis=1)\n",
    "        X_pad = np.concatenate((X_pad,np.array([[[0]*h]*xsize]*z).T), axis=1)\n",
    "        X_pad = np.concatenate((X_pad,np.array([np.array([[0]*(w+2*xsize)]*ysize).T]*z).T), axis=0)\n",
    "        X_pad = np.concatenate((np.array([np.array([[0]*(w+2*xsize)]*ysize).T]*z).T,X_pad), axis=0)\n",
    "    else:\n",
    "        X_pad = np.concatenate(([[0]*w]*xsize,X), axis=0)\n",
    "        X_pad = np.concatenate((X_pad,[[0]*w]*xsize), axis=0)\n",
    "        X_pad = np.concatenate((X_pad,np.array([[0]*(h+2*xsize)]*ysize).T), axis=1)\n",
    "        X_pad = np.concatenate((np.array([[0]*(h+2*xsize)]*ysize).T,X_pad), axis=1)\n",
    "   \n",
    "    return X_pad"
   ]
  },
  {
   "cell_type": "code",
   "execution_count": 3,
   "metadata": {},
   "outputs": [],
   "source": [
    "def convolution(X,kernel,stride=1, padding=False):\n",
    "    \"\"\"\n",
    "    Função para implementar a operação de convolução.\n",
    "    Parametros: X - imagem de entrada\n",
    "                kernel - matriz com o kernel a ser utilizado pela operação\n",
    "                stride - tamanho do passo a ser utilizado (default 1)\n",
    "                padding - flag para utilização de padding (default True)\n",
    "    retorno out_conv: matriz resultante da operação de convolução\n",
    "    \"\"\"\n",
    "    #kernel = np.flip(np.flip(kernel,1),0)\n",
    "    #print((kernel*X.shape[2])[0])\n",
    "    x = X.copy()\n",
    "    rx = kernel.shape[0]//2\n",
    "    ry = kernel.shape[1]//2\n",
    "    if padding:\n",
    "        x = zero_pad(x, rx, ry)\n",
    "    if len(X.shape) == 3:\n",
    "        if len(kernel.shape) == 3:\n",
    "            out = [[np.sum(x[i-rx:i+rx+1, j-ry:j+ry+1]*kernel)\n",
    "                for j in range(ry, x.shape[1]-ry, stride)] \n",
    "                   for i in range(rx, x.shape[0]-rx, stride)]\n",
    "        else:\n",
    "            out = [[np.sum(np.sum(x[i-rx:i+rx+1, j-ry:j+ry+1], axis=2)*kernel)\n",
    "                for j in range(ry, x.shape[1]-ry, stride)] \n",
    "                   for i in range(rx, x.shape[0]-rx, stride)]\n",
    "    else:\n",
    "        out = [[np.sum(x[i-rx:i+rx+1, j-ry:j+ry+1]*(kernel)) \n",
    "                for i in range(ry, x.shape[1]-ry, stride)] \n",
    "                   for j in range(rx, x.shape[0]-rx, stride)]\n",
    "        \n",
    "    return out"
   ]
  },
  {
   "cell_type": "code",
   "execution_count": 4,
   "metadata": {},
   "outputs": [],
   "source": [
    "def activation_func(func_type, z):\n",
    "    \"\"\"\n",
    "    Função que implementa as funções de ativação ReLU e Tanh\n",
    "    Parãmetros: func_type - uma string que contém a função de ativação desejada\n",
    "                z - matriz resultante da convolução e do bias.\n",
    "    Retorna: feature map\n",
    "    \"\"\"\n",
    "    ### Seu código aqui (~2 linhas)\n",
    "    if func_type == 'relu':\n",
    "        return np.fmax(0,z)\n",
    "    elif func_type == 'tanh':\n",
    "        return np.tanh(z)"
   ]
  },
  {
   "cell_type": "code",
   "execution_count": 5,
   "metadata": {},
   "outputs": [],
   "source": [
    "def visualize_fmap(X):\n",
    "    \"\"\"\n",
    "    Função que convertendo-o para uma imagem em níveis de cinza no intervalo [0, 255], \n",
    "    com a) níveis em valor absoluto com preto = zero; e b) mínimo = preto.\n",
    "    \"\"\"\n",
    "    x = X.copy()\n",
    "    x = np.abs(x) \n",
    "    x = np.array(x*255/x.max()).astype('uint8')\n",
    "    plt.imshow(x, 'gray')\n",
    "    plt.show()"
   ]
  },
  {
   "cell_type": "code",
   "execution_count": 6,
   "metadata": {},
   "outputs": [],
   "source": [
    "def convLayer(X,act_func, filters, bias, stride=1, padding=False):\n",
    "    \"\"\"\n",
    "    Implementa a camada convolucional utilizando bias e função de ativação.\n",
    "    Parametros: X - matriz de entrada\n",
    "                C - quantidade de canais do feature map\n",
    "                filters - filtros utilizados na camada\n",
    "                stride - tamanho do passo a ser utilizado (default 1)\n",
    "                padding - flag para utilização de padding (default True)\n",
    "    Retorno: fmap - feature map de dimensão (n_W,n_H, C)\n",
    "    \"\"\"\n",
    "    fmap = np.array([convolution(X,f,stride,padding) for f in filters])\n",
    "    fmap = np.array([activation_func(act_func, f + b) for f,b in zip(fmap, bias)])\n",
    "    return fmap"
   ]
  },
  {
   "cell_type": "code",
   "execution_count": 7,
   "metadata": {},
   "outputs": [],
   "source": [
    "def readFile(file):\n",
    "    f = open(file, \"r\")\n",
    "    size = np.array(f.readline().strip().split(',')).astype('int')\n",
    "    aux = [i.strip() for i in f.readlines() if i is not \"\\n\"]\n",
    "    bias = np.array(aux[-1].split(',')).astype('double')\n",
    "    del aux[-1]\n",
    "    kernels = np.array([np.array(i.split(',')).astype('double').reshape(size) for i in aux])\n",
    "    kernels.shape\n",
    "    return kernels, bias"
   ]
  },
  {
   "cell_type": "code",
   "execution_count": 8,
   "metadata": {},
   "outputs": [],
   "source": [
    "def maxPooling(x):\n",
    "    if len(x.shape) < 3 and x.shape[-1] is not 1:\n",
    "        out = [[np.max(x[i-1:i+2, j-1:j+2])\n",
    "                for j in range(1, x.shape[1], 2)] \n",
    "                   for i in range(1, x.shape[0], 2)]\n",
    "    else:\n",
    "        out = [[[np.max(k[i-1:i+2, j-1:j+2])\n",
    "                for j in range(1, k.shape[1], 2)] \n",
    "                   for i in range(1, k.shape[0], 2)] \n",
    "                       for k in x]\n",
    "    return np.array(out)"
   ]
  },
  {
   "cell_type": "code",
   "execution_count": 9,
   "metadata": {},
   "outputs": [],
   "source": [
    "def main(file, img):\n",
    "    convFilters, bias = readFile(file)\n",
    "    stride = int(input(\"Entre com um valor inteiro positivo para o stride \"))\n",
    "    padding = (input(\"Sua operaçao será feita com padding? True or False \"))\n",
    "    imageFile = np.asarray(Image.open(img))\n",
    "    plt.imshow(imageFile) \n",
    "    plt.show()\n",
    "    fmap = convLayer(imageFile,'relu', convFilters, bias, stride, padding)\n",
    "    for f in fmap:\n",
    "        visualize_fmap(f)\n",
    "    #fmap2 = fmap.swapaxes(0,2).swapaxes(0,1)\n",
    "    #fmap2 = convLayer(fmap2,'relu', convFilters, bias, stride, padding)\n",
    "    #print(\"-\"*80)\n",
    "    #for f in fmap2:\n",
    "       # visualize_fmap(f)\n"
   ]
  },
  {
   "cell_type": "code",
   "execution_count": 10,
   "metadata": {},
   "outputs": [
    {
     "name": "stdout",
     "output_type": "stream",
     "text": [
      "(1875, 32, 32, 32)\n"
     ]
    },
    {
     "data": {
      "image/png": "[encoded data removed]",
      "text/plain": [
       "<Figure size 432x288 with 1 Axes>"
      ]
     },
     "metadata": {},
     "output_type": "display_data"
    },
    {
     "name": "stdout",
     "output_type": "stream",
     "text": [
      "(16, 16)\n"
     ]
    },
    {
     "data": {
      "image/png": "[encoded data removed]",
      "text/plain": [
       "<Figure size 432x288 with 1 Axes>"
      ]
     },
     "metadata": {},
     "output_type": "display_data"
    },
    {
     "name": "stdout",
     "output_type": "stream",
     "text": [
      "3\n"
     ]
    }
   ],
   "source": [
    "from itertools import zip_longest\n",
    "def grouper(n, iterable, padvalue=None):\n",
    "    \"grouper(3, 'abcdefg', 'x') --> ('a','b','c'), ('d','e','f'), ('g','x','x')\"\n",
    "    return zip_longest(*[iter(iterable)]*n, fillvalue=padvalue)\n",
    "\n",
    "import tensorflow as tf\n",
    "mnist = tf.keras.datasets.mnist\n",
    "\n",
    "(x_train, y_train),(x_test, y_test) = mnist.load_data()\n",
    "x_train = np.array([zero_pad(x,2,2) for x in x_train])\n",
    "x_test = np.array([zero_pad(x,2,2) for x in x_test])\n",
    "#data suffling\n",
    "p = np.random.permutation(x_train.shape[0])\n",
    "x_train = x_train[p]\n",
    "y_train = y_train[p]\n",
    "#batch creation and normalization\n",
    "a = np.array([np.array(list(i)) for i in grouper(32, x_train)])\n",
    "ybatchs = np.array([np.array(list(i)) for i in grouper(32, y_train)])\n",
    "print(a.shape)\n",
    "batchs = np.array([(x - u) / d for x, u, d in zip(a, np.mean(a, axis=(1,2,3)), np.std(a, axis=(1,2,3)))])\n",
    "\n",
    "plt.imshow(batchs[1][1], 'gray') \n",
    "plt.show()\n",
    "print(maxPooling(batchs[1][0]).shape)\n",
    "plt.imshow(maxPooling(batchs[1][0]),'gray')\n",
    "plt.show()\n",
    "print(ybatchs[1][1])"
   ]
  },
  {
   "cell_type": "code",
   "execution_count": 11,
   "metadata": {},
   "outputs": [
    {
     "data": {
      "text/plain": [
       "(84, 1)"
      ]
     },
     "execution_count": 11,
     "metadata": {},
     "output_type": "execute_result"
    }
   ],
   "source": [
    "# He\n",
    "def He(currLayer_size, prevLayer_size, currKernel_size):\n",
    "    return np.array(\n",
    "        [np.random.standard_normal(size = currLayer_size) * np.sqrt(2/prevLayer_size) \n",
    "                     for _ in range(currKernel_size)])\n",
    "    \n",
    "\n",
    "kernelsizes = [(5,5), (5,5,6), (5,5,16), (120), (84)]\n",
    "layersizes = [6,6,16,120,84,10]\n",
    "\n",
    "kernels = np.array([np.array(He(kernelsizes[s], layersizes[k], layersizes[k+1])) \n",
    "                    for s, k in zip(range(len(kernelsizes)), range(len(layersizes)))])\n",
    "bias = np.array(\n",
    "    [He(1, layersizes[i], layersizes[i+1]) for i in range(len(layersizes)-1) ])\n",
    "bias[3].shape"
   ]
  },
  {
   "cell_type": "code",
   "execution_count": 12,
   "metadata": {},
   "outputs": [],
   "source": [
    "def softMax(x):\n",
    "#     import bigfloat\n",
    "#     xexp = np.array([bigfloat.exp(i,bigfloat.precision(200)) for i in x])\n",
    "#     return xexp / np.sum(xexp)\n",
    "    exp = np.exp(x)\n",
    "    return exp / exp.sum()"
   ]
  },
  {
   "cell_type": "code",
   "execution_count": 13,
   "metadata": {},
   "outputs": [],
   "source": [
    "def lost(f, y):\n",
    "    return -np.log(f[y])"
   ]
  },
  {
   "cell_type": "code",
   "execution_count": 14,
   "metadata": {},
   "outputs": [],
   "source": [
    "#Lenet\n",
    "def lenet(img):\n",
    "    fmap = convLayer(img,'relu', kernels[0], bias[0])\n",
    "    fmap = maxPooling(fmap).swapaxes(0,2).swapaxes(0,1)\n",
    "    fmap = convLayer(fmap,'relu', kernels[1], bias[1])\n",
    "    fmap = maxPooling(fmap).swapaxes(0,2).swapaxes(0,1)\n",
    "    fmap = convLayer(fmap,'relu', kernels[2], bias[2])\n",
    "    fmap = fmap.flatten()\n",
    "    fmap = np.array([np.sum(fmap*w)  for w in kernels[3]] + bias[3].flatten())\n",
    "    fmap = np.array([np.sum(fmap*w)  for w in kernels[4]] + bias[4].flatten())\n",
    "    fmap = softMax(fmap)\n",
    "    return fmap"
   ]
  },
  {
   "cell_type": "code",
   "execution_count": 15,
   "metadata": {},
   "outputs": [
    {
     "name": "stdout",
     "output_type": "stream",
     "text": [
      "616.082739755187\n"
     ]
    }
   ],
   "source": [
    "x = 52\n",
    "y = 31\n",
    "f = lenet(batchs[x][y])\n",
    "perda = lost(f, ybatchs[x][y])\n",
    "print(perda)"
   ]
  },
  {
   "cell_type": "code",
   "execution_count": null,
   "metadata": {},
   "outputs": [],
   "source": []
  },
  {
   "cell_type": "code",
   "execution_count": 16,
   "metadata": {},
   "outputs": [
    {
     "data": {
      "text/plain": [
       "61470"
      ]
     },
     "execution_count": 16,
     "metadata": {},
     "output_type": "execute_result"
    }
   ],
   "source": [
    "#Numero de pesos\n",
    "np.sum([np.prod(np.asarray(k.shape)) for k in kernels])"
   ]
  }
 ],
 "metadata": {
  "kernelspec": {
   "display_name": "Python 3",
   "language": "python",
   "name": "python3"
  },
  "language_info": {
   "codemirror_mode": {
    "name": "ipython",
    "version": 3
   },
   "file_extension": ".py",
   "mimetype": "text/x-python",
   "name": "python",
   "nbconvert_exporter": "python",
   "pygments_lexer": "ipython3",
   "version": "3.6.6"
  }
 },
 "nbformat": 4,
 "nbformat_minor": 2
}
